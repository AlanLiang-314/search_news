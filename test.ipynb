{
 "cells": [
  {
   "cell_type": "code",
   "execution_count": 17,
   "metadata": {},
   "outputs": [],
   "source": [
    "import numpy as np"
   ]
  },
  {
   "cell_type": "code",
   "execution_count": 66,
   "metadata": {},
   "outputs": [],
   "source": [
    "import pickle\n",
    "embedding_path = \"embeddings/article.pkl\"\n",
    "with open(embedding_path, 'rb') as fOut:\n",
    "            data = pickle.load(fOut)"
   ]
  },
  {
   "cell_type": "code",
   "execution_count": 71,
   "metadata": {},
   "outputs": [
    {
     "name": "stdout",
     "output_type": "stream",
     "text": [
      "53\n"
     ]
    },
    {
     "data": {
      "text/plain": [
       "array([[-0.20788911, -0.21336332,  0.3358525 , ..., -0.29800099,\n",
       "        -0.79970807,  0.29694703],\n",
       "       [-0.07491872, -0.01638583,  0.60029769, ...,  0.83037907,\n",
       "        -0.62208325,  0.33436009],\n",
       "       [ 0.1338627 ,  0.0864096 ,  0.88693184, ..., -0.73100895,\n",
       "        -1.29803801,  0.47710159],\n",
       "       ...,\n",
       "       [ 0.4552497 , -0.4332664 ,  0.25048691, ...,  0.24253379,\n",
       "        -0.89710671,  0.1824017 ],\n",
       "       [ 0.1911725 ,  0.22231472,  0.82916617, ..., -0.18247484,\n",
       "         0.13698117,  0.35175708],\n",
       "       [ 0.        ,  0.        ,  0.        , ...,  0.        ,\n",
       "         0.        ,  0.        ]])"
      ]
     },
     "execution_count": 71,
     "metadata": {},
     "output_type": "execute_result"
    }
   ],
   "source": [
    "#print(data)\n",
    "sent_emb = data['embeddings']\n",
    "sents = data['sents']\n",
    "print(len(sent_emb))\n",
    "a = np.zeros((1,768))\n",
    "np.concatenate([sent_emb, a])"
   ]
  },
  {
   "cell_type": "code",
   "execution_count": 1,
   "metadata": {},
   "outputs": [
    {
     "name": "stdout",
     "output_type": "stream",
     "text": [
      "[('1XwR-G_0JuQyDwgeoGQQVA', 'https://www.twreporter.org/a/analysis-20th-national-congress-of-ccp-interview-wu-jieh-min'), ('W6mS5kTz2HSs7ARQFKV9Ng', 'https://www.twreporter.org/a/russian-invasion-of-ukraine-2022-memorial-international'), ('IwY26TsdyFnJgGwR9yg5Vg', 'https://www.twreporter.org/a/interview-kyivpride'), ('D_gLeG08_44AEoSRkWzIzQ', 'https://www.twreporter.org/a/20th-national-congress-of-ccp-1'), ('mS_ku3LhZuhVllCCrMihmg', 'https://www.twreporter.org/a/russia-ukraine-war-2022-information-warfare'), ('SbPnkMBRS4RGRzcMZMXe-Q', 'https://www.twreporter.org/a/hello-world-2022-11-01'), ('qBuGPc-LdIr6bn08-vSLeA', 'https://pansci.asia/archives/348757'), ('QFKgNKS6F-opZzB-r82mqg', 'https://www.twreporter.org/a/opinion-lower-voting-age-to-18-japan-expenrience'), ('fiwHHZLd0HYZYpo9foACqw', 'https://www.twreporter.org/a/opinion-covid-19-omicron-new-zealand-coexisting-experience-holistic-care'), ('mVxN4d_ng3xQc9bxQzpF3w', 'https://www.twreporter.org/a/opinion-covid-19-reflect-public-health-problem'), ('mbMrW0Lqhxg7pYoMRsfnvg', 'https://www.twreporter.org/a/opinion-covid-19-global-health-governance-challenge'), ('2WPOusCiyIwhPUf9j_1lVA', 'https://www.twreporter.org/a/sars-cov-2-variants'), ('FYoC7yMkb0_lgDjWpS_YGw', 'https://www.twreporter.org/a/covid-19-taiwan-epidemic-prevention-policies-change'), ('Xv-CLB19_S4xLy0smOIFfw', 'https://www.twreporter.org/a/mini-reporter-covid-19-saliva-testing'), ('NSQoHTLLFCkbvEOfkuxtJA', 'https://www.twreporter.org/a/covid-19-omicron-longterm-care-pademic'), ('iiRQk3EyEwMud5FDheeILw', 'https://www.twreporter.org/a/covid-19-omicron-stay-at-home-order-problems'), ('A8z_v-llL6IDQdUypiqwIQ', 'https://www.twreporter.org/a/covid-19-omicron-children-vaccination')]\n"
     ]
    }
   ],
   "source": [
    "import database\n",
    "saver = database.saver(\"Urls/metadata.db\")\n",
    "res = saver.find()\n",
    "print(res)"
   ]
  },
  {
   "cell_type": "code",
   "execution_count": 3,
   "metadata": {},
   "outputs": [],
   "source": [
    "import sqlite3\n",
    "con = sqlite3.connect(\"urls/metadata.db\")\n",
    "cur = con.cursor()"
   ]
  },
  {
   "cell_type": "code",
   "execution_count": 12,
   "metadata": {},
   "outputs": [
    {
     "name": "stdout",
     "output_type": "stream",
     "text": [
      "[('first title',), ('another title',), ('thr other title',)]\n"
     ]
    }
   ],
   "source": [
    "# cur.execute(\"create table test(id, title, content, url, type)\")\n",
    "print(cur.execute(\"select title from test\").fetchall())"
   ]
  },
  {
   "cell_type": "code",
   "execution_count": 9,
   "metadata": {},
   "outputs": [
    {
     "data": {
      "text/plain": [
       "<sqlite3.Cursor at 0x1d4351d18c0>"
      ]
     },
     "execution_count": 9,
     "metadata": {},
     "output_type": "execute_result"
    }
   ],
   "source": [
    "data = [\n",
    "    (\"qwerty\", \"first title\", \"blablablablablabla\", \"http://www.com\", \"www\"),\n",
    "    (\"edfgyt\", \"another title\", \"hello world\", \"D:/Go_learning/\", \"markdown\"),\n",
    "    (\"rtgvdsf\", \"thr other title\", \"a rss feed\", \"https://blog.com\", \"rss\")\n",
    "]\n",
    "cur.executemany(\"INSERT INTO test VALUES(?, ?, ?, ?, ?)\",data)"
   ]
  },
  {
   "cell_type": "code",
   "execution_count": 10,
   "metadata": {},
   "outputs": [],
   "source": [
    "con.commit()"
   ]
  }
 ],
 "metadata": {
  "kernelspec": {
   "display_name": "Python 3.10.8 64-bit (microsoft store)",
   "language": "python",
   "name": "python3"
  },
  "language_info": {
   "codemirror_mode": {
    "name": "ipython",
    "version": 3
   },
   "file_extension": ".py",
   "mimetype": "text/x-python",
   "name": "python",
   "nbconvert_exporter": "python",
   "pygments_lexer": "ipython3",
   "version": "3.10.8"
  },
  "orig_nbformat": 4,
  "vscode": {
   "interpreter": {
    "hash": "bd29a96d97a216054a084ba4d739d506585e84cec05b00d0340c9e7a5743e754"
   }
  }
 },
 "nbformat": 4,
 "nbformat_minor": 2
}
