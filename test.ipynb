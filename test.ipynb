{
 "cells": [
  {
   "cell_type": "code",
   "execution_count": 17,
   "metadata": {},
   "outputs": [],
   "source": [
    "import numpy as np"
   ]
  },
  {
   "cell_type": "code",
   "execution_count": 66,
   "metadata": {},
   "outputs": [],
   "source": [
    "import pickle\n",
    "embedding_path = \"embeddings/article.pkl\"\n",
    "with open(embedding_path, 'rb') as fOut:\n",
    "            data = pickle.load(fOut)"
   ]
  },
  {
   "cell_type": "code",
   "execution_count": 71,
   "metadata": {},
   "outputs": [
    {
     "name": "stdout",
     "output_type": "stream",
     "text": [
      "53\n"
     ]
    },
    {
     "data": {
      "text/plain": [
       "array([[-0.20788911, -0.21336332,  0.3358525 , ..., -0.29800099,\n",
       "        -0.79970807,  0.29694703],\n",
       "       [-0.07491872, -0.01638583,  0.60029769, ...,  0.83037907,\n",
       "        -0.62208325,  0.33436009],\n",
       "       [ 0.1338627 ,  0.0864096 ,  0.88693184, ..., -0.73100895,\n",
       "        -1.29803801,  0.47710159],\n",
       "       ...,\n",
       "       [ 0.4552497 , -0.4332664 ,  0.25048691, ...,  0.24253379,\n",
       "        -0.89710671,  0.1824017 ],\n",
       "       [ 0.1911725 ,  0.22231472,  0.82916617, ..., -0.18247484,\n",
       "         0.13698117,  0.35175708],\n",
       "       [ 0.        ,  0.        ,  0.        , ...,  0.        ,\n",
       "         0.        ,  0.        ]])"
      ]
     },
     "execution_count": 71,
     "metadata": {},
     "output_type": "execute_result"
    }
   ],
   "source": [
    "#print(data)\n",
    "sent_emb = data['embeddings']\n",
    "sents = data['sents']\n",
    "print(len(sent_emb))\n",
    "a = np.zeros((1,768))\n",
    "np.concatenate([sent_emb, a])"
   ]
  },
  {
   "cell_type": "code",
   "execution_count": 11,
   "metadata": {},
   "outputs": [
    {
     "data": {
      "text/plain": [
       "{'sents': '1', 'embeddings': [1, 2, 3]}"
      ]
     },
     "execution_count": 11,
     "metadata": {},
     "output_type": "execute_result"
    }
   ],
   "source": [
    "file"
   ]
  }
 ],
 "metadata": {
  "kernelspec": {
   "display_name": "Python 3.10.8 64-bit (microsoft store)",
   "language": "python",
   "name": "python3"
  },
  "language_info": {
   "codemirror_mode": {
    "name": "ipython",
    "version": 3
   },
   "file_extension": ".py",
   "mimetype": "text/x-python",
   "name": "python",
   "nbconvert_exporter": "python",
   "pygments_lexer": "ipython3",
   "version": "3.10.8"
  },
  "orig_nbformat": 4,
  "vscode": {
   "interpreter": {
    "hash": "bd29a96d97a216054a084ba4d739d506585e84cec05b00d0340c9e7a5743e754"
   }
  }
 },
 "nbformat": 4,
 "nbformat_minor": 2
}
